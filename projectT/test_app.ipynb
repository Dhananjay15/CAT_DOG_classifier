{
 "cells": [
  {
   "cell_type": "code",
   "execution_count": 11,
   "metadata": {},
   "outputs": [
    {
     "name": "stdout",
     "output_type": "stream",
     "text": [
      "WARNING:tensorflow:SavedModel saved prior to TF 2.5 detected when loading Keras model. Please ensure that you are saving the model with model.save() or tf.keras.models.save_model(), *NOT* tf.saved_model.save(). To confirm, there should be a file named \"keras_metadata.pb\" in the SavedModel directory.\n",
      " * Serving Flask app \"__main__\" (lazy loading)\n",
      " * Environment: production\n",
      "\u001b[31m   WARNING: This is a development server. Do not use it in a production deployment.\u001b[0m\n",
      "\u001b[2m   Use a production WSGI server instead.\u001b[0m\n",
      " * Debug mode: off\n"
     ]
    },
    {
     "name": "stderr",
     "output_type": "stream",
     "text": [
      " * Running on http://0.0.0.0:8000/ (Press CTRL+C to quit)\n",
      "172.18.0.2 - - [03/Nov/2022 12:01:43] \"POST /upload-image HTTP/1.1\" 200 -\n"
     ]
    },
    {
     "name": "stdout",
     "output_type": "stream",
     "text": [
      "Image saved\n"
     ]
    },
    {
     "name": "stderr",
     "output_type": "stream",
     "text": [
      "172.18.0.2 - - [03/Nov/2022 12:01:48] \"POST /upload-image HTTP/1.1\" 200 -\n"
     ]
    },
    {
     "name": "stdout",
     "output_type": "stream",
     "text": [
      "Image saved\n"
     ]
    },
    {
     "name": "stderr",
     "output_type": "stream",
     "text": [
      "172.18.0.2 - - [03/Nov/2022 12:03:19] \"POST /upload-image HTTP/1.1\" 200 -\n"
     ]
    },
    {
     "name": "stdout",
     "output_type": "stream",
     "text": [
      "Image saved\n"
     ]
    },
    {
     "name": "stderr",
     "output_type": "stream",
     "text": [
      "172.18.0.2 - - [03/Nov/2022 12:03:48] \"POST /upload-image HTTP/1.1\" 200 -\n"
     ]
    },
    {
     "name": "stdout",
     "output_type": "stream",
     "text": [
      "Image saved\n"
     ]
    },
    {
     "name": "stderr",
     "output_type": "stream",
     "text": [
      "172.18.0.2 - - [03/Nov/2022 12:06:09] \"POST /upload-image HTTP/1.1\" 200 -\n"
     ]
    },
    {
     "name": "stdout",
     "output_type": "stream",
     "text": [
      "Image saved\n"
     ]
    }
   ],
   "source": [
    "import os\n",
    "from werkzeug.utils import secure_filename\n",
    "from flask import Flask, request, redirect, jsonify, render_template, send_from_directory\n",
    "from os.path import join, dirname, realpath\n",
    "from tensorflow import keras\n",
    "import numpy as np\n",
    "import tensorflow as tf\n",
    "from keras.preprocessing import image\n",
    "\n",
    "\n",
    "app = Flask(__name__)\n",
    "app.config[\"IMAGE_UPLOADS\"] = \"./static/uploads/\"\n",
    "app.config[\"ALLOWED_IMAGE_EXTENSIONS\"] = [\"JPEG\", \"JPG\", \"PNG\", \"GIF\",\"JFIF\"]\n",
    "model_path = './'\n",
    "model = tf.keras.models.load_model(model_path)\n",
    "\n",
    "\n",
    "def allowed_image(filename):\n",
    "\n",
    "    if not \".\" in filename:\n",
    "        return False\n",
    "\n",
    "    ext = filename.rsplit(\".\", 1)[1]\n",
    "\n",
    "    if ext.upper() in app.config[\"ALLOWED_IMAGE_EXTENSIONS\"]:\n",
    "        return True\n",
    "    else:\n",
    "        return False\n",
    "\n",
    "\n",
    "@app.route('/')\n",
    "def home():\n",
    "    return render_template('upload.html')\n",
    "\n",
    "\n",
    "@app.route(\"/upload-image\", methods=[\"GET\", \"POST\"])\n",
    "def upload_image():\n",
    "\n",
    "    if request.method == \"POST\":\n",
    "\n",
    "        if request.files:\n",
    "\n",
    "                images = request.files[\"image\"]\n",
    "                \n",
    "                if images.filename == \"\":\n",
    "                    print(\"No filename\")\n",
    "                if allowed_image(images.filename):\n",
    "                    filename = secure_filename(images.filename)\n",
    "                    images.save(os.path.join(app.config[\"IMAGE_UPLOADS\"], filename))\n",
    "                    print(\"Image saved\")\n",
    "\n",
    "                else:\n",
    "                    print(\"this extension not allowed\")\n",
    "\n",
    "                    \n",
    "    path =  './static/uploads/{}'.format(filename)\n",
    "    \n",
    "    def finds():\n",
    "        test_image = image.load_img(path, target_size = (64, 64))\n",
    "        test_image = image.img_to_array(test_image)\n",
    "        test_image = np.expand_dims(test_image, axis = 0)\n",
    "        result = model.predict(test_image)\n",
    "        return result\n",
    "    \n",
    "    val = finds()\n",
    "    if  val[0][0] == 1:\n",
    "              prediction = 'DOG'\n",
    "    else:\n",
    "              prediction = 'CAT'\n",
    "\n",
    "    return render_template('upload.html', prediction_text='The image you choosed was of a {}'.format(prediction))\n",
    "\n",
    "if __name__ == \"__main__\":\n",
    "    app.run(host='0.0.0.0',port=8000)"
   ]
  }
 ],
 "metadata": {
  "kernelspec": {
   "display_name": "Python 3.7.13 ('myenv')",
   "language": "python",
   "name": "python3"
  },
  "language_info": {
   "codemirror_mode": {
    "name": "ipython",
    "version": 3
   },
   "file_extension": ".py",
   "mimetype": "text/x-python",
   "name": "python",
   "nbconvert_exporter": "python",
   "pygments_lexer": "ipython3",
   "version": "3.7.13"
  },
  "vscode": {
   "interpreter": {
    "hash": "e05bc1081b6bdc600776d0a1b360d80ee0d5997562ee799e2ffcd7882ec4019c"
   }
  }
 },
 "nbformat": 4,
 "nbformat_minor": 4
}
